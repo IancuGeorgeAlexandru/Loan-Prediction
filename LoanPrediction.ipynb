{
  "nbformat": 4,
  "nbformat_minor": 0,
  "metadata": {
    "colab": {
      "provenance": []
    },
    "kernelspec": {
      "name": "python3",
      "display_name": "Python 3"
    },
    "language_info": {
      "name": "python"
    }
  },
  "cells": [
    {
      "cell_type": "markdown",
      "source": [
        "# Supervised methods. Classification\n"
      ],
      "metadata": {
        "id": "KWjl-EAzb7oX"
      }
    },
    {
      "cell_type": "markdown",
      "source": [
        "In machine learning, the process of tackling a problem is as follows:\n",
        "\n",
        "*   Study the data.\n",
        "*   Select a model.\n",
        "* Trained it on the training data (i.e., the learning algorithm searched for the\n",
        "model parameter values that minimize a cost function).\n",
        "* Apply the model to make predictions on new cases (this is called inference), hoping that this model will generalize well."
      ],
      "metadata": {
        "id": "PrASmAkLyND1"
      }
    },
    {
      "cell_type": "markdown",
      "source": [
        "####Studying data and preprocessing it.\n",
        "In order for a technique to perform well, we need first to analyse the data we are dealing with. Further we list some main chalenges:\n",
        "\n",
        "1.   **Insufficient Quantity of Training Data**\n",
        "2.   **Nonrepresentative Training Data**: in order to generalize well, it is crucial that your training data be representative of the new cases you want to generalize to.\n",
        "3.  **Poor-Quality Data** : if your training data is full of errors, outliers, and noise (e.g., due to poorquality\n",
        "measurements), it will make it harder for the system to detect the underlying\n",
        "patterns, so your system is less likely to perform well $⇒$ **Clean data**\n",
        "4. **Irrelevant Features**: As the saying goes: garbage in, garbage out. Your system will only be capable of learning if the training data contains enough relevant features and not too many irrelevant\n",
        "ones. $⇒$ **Feature engineering**\n",
        "\n",
        "\n",
        "\n"
      ],
      "metadata": {
        "id": "QEhu3RhmwcpW"
      }
    },
    {
      "cell_type": "markdown",
      "source": [
        "#### Cleaning data\n",
        "\n",
        "\n",
        "*   If some instances are clearly outliers, it may help to simply discard them or try to\n",
        "fix the errors manually.\n",
        "*   If some instances are missing a few features (e.g., 5% of your customers did not\n",
        "specify their age), you must decide whether you want to ignore this attribute altogether,\n",
        "ignore these instances, fill in the missing values (e.g., with the median\n",
        "age), or train one model with the feature and one model without it, and so on.\n",
        "\n"
      ],
      "metadata": {
        "id": "XktU75oU0182"
      }
    },
    {
      "cell_type": "markdown",
      "source": [
        "## Binary classification. Logistic Regression."
      ],
      "metadata": {
        "id": "8DODyBmGok0Z"
      }
    },
    {
      "cell_type": "markdown",
      "source": [
        "**Logistic regression** is a statistical method for analyzing datasets in which there are one or more independent variables that determine an outcome. The outcome is usually a binary outcome (1/0, Yes/No, True/False). It's used to describe data and to explain the relationship between one dependent binary variable and one or more independent variables.\n",
        "\n",
        "While linear regression predicts a continuous outcome, logistic regression predicts the probability of an event occurrence. The hypothesis function for logistic regression is\n",
        "\n",
        "\\begin{equation}\n",
        "h_\\theta(x) = \\frac{1}{1 + e^{-\\theta^\\top x}} = \\sigma(\\theta^\\top x) \\tag{12}\n",
        "\\end{equation}\n",
        "\n",
        "where:\n",
        "- $ h_\\theta(x) $ is the predicted output\n",
        "- $ \\theta $ is the set of parameters\n",
        "- $ x $ is the input feature\n",
        "- The function $ \\frac{1}{1 + e^{-z}} $ is the Sigmoid function, which outputs values between 0 and 1.\n",
        "\n"
      ],
      "metadata": {
        "id": "2wEhpBbTCWU1"
      }
    },
    {
      "cell_type": "code",
      "source": [
        "import numpy as np\n",
        "import matplotlib.pyplot as plt\n",
        "\n",
        "t = np.linspace(-10, 10, 100)\n",
        "sig = 1 / (1 + np.exp(-t))\n",
        "plt.figure(figsize=(9, 3))\n",
        "plt.plot([-10, 10], [0, 0], \"k-\")\n",
        "plt.plot([-10, 10], [0.5, 0.5], \"k:\")\n",
        "plt.plot([-10, 10], [1, 1], \"k:\")\n",
        "plt.plot([0, 0], [-1.1, 1.1], \"k-\")\n",
        "plt.plot(t, sig, \"b-\", linewidth=2, label=r\"$\\sigma(t) = \\frac{1}{1 + e^{-t}}$\")\n",
        "plt.xlabel(\"t\")\n",
        "plt.legend(loc=\"upper left\", fontsize=20)\n",
        "plt.axis([-10, 10, -0.1, 1.1])\n",
        "plt.show()"
      ],
      "metadata": {
        "colab": {
          "base_uri": "https://localhost:8080/",
          "height": 311
        },
        "id": "nZveZyR64DPd",
        "outputId": "0846375d-28d7-4dcf-91f0-cf38a9a470b9"
      },
      "execution_count": 11,
      "outputs": [
        {
          "output_type": "display_data",
          "data": {
            "text/plain": [
              "<Figure size 900x300 with 1 Axes>"
            ],
            "image/png": "[encoded data removed]"
          },
          "metadata": {}
        }
      ]
    },
    {
      "cell_type": "markdown",
      "source": [
        "As mentioned the logistic regresion returns the probability of an event to occure. So we make the following interpretation:\n",
        "\n",
        "\\begin{equation}\n",
        "h_\\theta(X) = \\frac{1}{1 + e^{-\\theta^\\top X}} = P(y=1|X, \\theta)\n",
        "\\end{equation}\n",
        "\n",
        "Considering the fundamental theory of probabilities, i.e., the sum of the probabilities is one, we have:\n",
        "\n",
        "\\begin{equation}\n",
        "P(y=0|X, \\theta) = 1- P(y=0|X, \\theta).\n",
        "\\end{equation}\n",
        "\n",
        "Further, in order to compute the *Likelihood function*, we assume that the instances are indepedent and have the Bernoulli distribution. Thus, we obtain:\n",
        "$$\n",
        "\\begin{aligned}\n",
        "L(\\theta \\mid y, x) & =\\mathrm{P}(Y \\mid X, \\theta)=\\prod_{i=1}^m \\mathrm{P}\\left(y^{(i)} \\mid x^{(i)}, \\theta\\right) =\\prod_{i=1}^m h_\\theta\\left(x^{(i)}\\right)^{y^{(i)}}\\left(1-h_\\theta\\left(x^{(i)}\\right)\\right)^{\\left(1-y^{(i)}\\right)} .\n",
        "\\end{aligned}\n",
        "$$\n",
        "\n",
        "Further, we take the logarithm in the previous expression and maximize it:\n",
        "$$\n",
        "\\hat{\\theta} = \\text{argmax}_{\\theta} \\frac{1}{m}\\sum_{i=1}^m \\log  h_\\theta\\left(x^{(i)}\\right)^{y^{(i)}} + \\log \\left(1-h_\\theta\\left(x^{(i)}\\right)\\right)^{\\left(1-y^{(i)}\\right)}\n",
        "$$"
      ],
      "metadata": {
        "id": "sN3m5cbbbU8d"
      }
    },
    {
      "cell_type": "markdown",
      "source": [
        "To train a logistic regression model, we need to find parameters $ \\theta $ such that the cost function is minimized\n",
        "\n",
        "\\begin{equation}\n",
        "J(\\theta) = -\\frac{1}{m} \\sum_{i=1}^m [y^{(i)} \\log(h_\\theta(x^{(i)})) + (1 - y^{(i)}) \\log(1 - h_\\theta(x^{(i)}))] \\tag{13}\n",
        "\\end{equation}\n",
        "\n",
        "where $ m $ is the number of training examples and $y$ is the label. One method to find the optimal parameters is the gradient method. Further, we provide the ingredients for implementing the GD method.\n",
        "\n",
        "The gradient of the cost function is:\n",
        "\\begin{equation}\n",
        "\\frac{\\partial J(\\theta)}{\\partial \\theta_j} = \\frac{1}{m} \\sum_{i=1}^m (h_\\theta(x^{(i)}) - y^{(i)}) x_j^{(i)} \\tag{14}\n",
        "\\end{equation}\n",
        "\n",
        "Logistic regression optimization using gradient descent revolves around minimizing the log-loss, a measure of the difference between predicted probabilities and actual labels. The key to this iterative optimization is computing the gradient of the cost with respect to the model's weights. The gradient, given by\n",
        "\n",
        "\\begin{equation}\n",
        "\\nabla J(\\theta) = \\frac{1}{m} X^T (\\sigma(X\\theta) - y)\n",
        "\\end{equation}\n",
        "\n",
        "where $ \\sigma $ is the sigmoid function, indicates the direction of steepest ascent in the cost function. To minimize the cost, weights are updated in the direction opposite to the gradient using the formula\n",
        "\n",
        "\\begin{equation}\n",
        "\\theta_{k + 1} = \\theta_{k} - \\alpha \\nabla J(\\theta_{k})\n",
        "\\end{equation}\n",
        "\n",
        "Here, $ \\alpha $ is the learning rate, determining the step size. The process is repeated until the changes in the cost function become negligible or a set number of iterations is reached. Adjusting the learning rate is crucial: a high value can cause divergence, while a low value may lead to slow convergence. There are also more reliable methods for choosing the learning rate, such as the **Lipschitz constant**."
      ],
      "metadata": {
        "id": "s6A69OIeDxEu"
      }
    },
    {
      "cell_type": "code",
      "source": [
        "from sklearn import datasets\n",
        "from sklearn.linear_model import LogisticRegression  # for Logistic Regression algorithm\n",
        "from sklearn.model_selection import train_test_split #to split the dataset for training and testing\n",
        "from sklearn import metrics #for checking the model accuracy\n",
        "iris = datasets.load_iris()\n",
        "list(iris.keys())\n",
        "\n",
        "X = iris[\"data\"][:, 2:]  # petal width\n",
        "#y = (iris[\"target\"] == 2).astype(np.int)  # 1 if Iris virginica, else 0\n",
        "y = (iris[\"target\"] == 2)\n",
        "\n",
        "# [Assesment 1]: Use LogisticRegression class to train the model for the above data.\n",
        "# Use train_test_split to divide your data in training and testing data. Use 15% for testing.\n",
        "# What mean accuracy you obtain?\n",
        "\n",
        "\n",
        "X_train,X_test,Y_train,Y_test=train_test_split(X,y,test_size=0.15)\n",
        "print(\"Train Shape\",X_train.shape)\n",
        "print(\"Test Shape\",X_test.shape)\n",
        "\n",
        "log = LogisticRegression()\n",
        "log.fit(X_train,Y_train)\n",
        "prediction=log.predict(X_test)\n",
        "print('The accuracy of the Logistic Regression is',metrics.accuracy_score(prediction,Y_test))\n"
      ],
      "metadata": {
        "id": "qTZKTS4Awaen",
        "colab": {
          "base_uri": "https://localhost:8080/"
        },
        "outputId": "cf76c3de-bbb7-4805-e720-376e69407ae9"
      },
      "execution_count": 16,
      "outputs": [
        {
          "output_type": "stream",
          "name": "stdout",
          "text": [
            "Train Shape (127, 2)\n",
            "Test Shape (23, 2)\n",
            "The accuracy of the Logistic Regression is 1.0\n"
          ]
        }
      ]
    },
    {
      "cell_type": "markdown",
      "source": [
        "### Multiclass classification. Softmax Regression\n",
        "\n",
        "The Logistic Regression model can be generalized to support multiple classes directly,\n",
        "without having to train and combine multiple binary classifiers. This is called *Softmax Regression*, or *Multinomial Logistic Regression*.\n",
        "\n",
        "The idea is quite simple: when given an instance $x$, the Softmax Regression model\n",
        "first computes a score $s_k(x)$ for each class $k$, then estimates the probability of each\n",
        "class by applying the *softmax function* (also called the normalized exponential) to the\n",
        "scores. The equation to compute $s_k(x)$ should look familiar, as it is just like the equation\n",
        "for Linear Regression prediction:\n",
        "\n",
        "$$s_k(x) = \\theta_k^T x  $$.\n",
        "\n",
        "Note that each class has its own dedicated parameter vector $\\theta_k$. All these vectors are\n",
        "typically stored as rows in a parameter matrix $\\Theta$.\n",
        "\n",
        "Once you have computed the score of every class for the instance $x$, you can estimate\n",
        "the probability $p_k$ that the instance belongs to class $k$ by running the scores through the softmax function :\n",
        "\n",
        "$$ \\hat{p}_k = \\sigma(s(x))_k = \\frac{e^{s_k(x)}}{\\sum_{j=1}^{K} e^{s_j(x)}}$$,\n",
        "\n",
        "where\n",
        "* $K$: the number of classes\n",
        "* $s(x)$: a vector containing the scores of each class for the instance $x$\n",
        "* $\\sigma(s(x))_k$ is the estimated probability that the instance $x$ belongs to class $k$ given the scores of each class for that instance.\n",
        "\n",
        "Just like the *Logistic Regression classifier*, the *Softmax Regression classifier* predicts the class with the highest estimated probability:\n",
        "\n",
        "$$ \\hat{y} = \\text{argmax}_{k} \\sigma(s(x))_k $$\n"
      ],
      "metadata": {
        "id": "7rOr8B0lOPJk"
      }
    },
    {
      "cell_type": "code",
      "source": [
        "\"\"\"[Assesment 2]: Activate in the LogisticRegression class the multiclass option\n",
        "and use it on the all iris database (the database initially has three classes).\n",
        "What average accuracy you obtain?\n",
        "\"\"\"\n",
        "\n",
        "X=iris.data\n",
        "Y=iris.target\n",
        "\n",
        "log_reg = LogisticRegression()\n",
        "X_train, X_test, Y_train, Y_test = train_test_split(X,Y, test_size=0.15, random_state=3)\n",
        "log_reg.fit(X_train, Y_train)\n",
        "\n",
        "from sklearn import metrics\n",
        "\n",
        "Y_pred = log_reg.predict(X_test)\n",
        "print(metrics.accuracy_score(Y_test, Y_pred))\n"
      ],
      "metadata": {
        "id": "VTMv1NEtTU6U",
        "colab": {
          "base_uri": "https://localhost:8080/"
        },
        "outputId": "0ad75528-d861-4824-92d7-989cd919cfba"
      },
      "execution_count": null,
      "outputs": [
        {
          "output_type": "stream",
          "name": "stdout",
          "text": [
            "1.0\n"
          ]
        }
      ]
    },
    {
      "cell_type": "markdown",
      "source": [
        "###Homework (10p)\n",
        "Make a document (.pdf) or a colab file (.ipynb) that contains a classification problem of your choice. The following points must be met:\n",
        "\n",
        "\n",
        "1.(2p) Data proessing\n",
        " * Find a different dataset than the one used in the current lab and analyse it. Some open data repositories: [UC Irvine Machine Learning Repository](https://archive.ics.uci.edu/), [Kaggle datasets](https://www.kaggle.com/datasets), etc.\n",
        " * Analyse the data and make the appropriate cleaning and processing decisions (example: scaletion, normalization, min-max scalation).\n",
        "\n",
        "2.(4p) Choose a model\n",
        " * Describe the model you choose (problem formulation) and the learning algorithm you will use. Examples of classifiers: SVM, Decision trees, KNN, Naiv Bayes, etc. (Do not use Neural Networks approaches.)    \n",
        " * Modify at least one default value from the parameters in the class function you implement.  \n",
        "\n",
        "3.(2p) Train the model and evaluate it.\n",
        "\n",
        "4.(2p) Compare the performance with Logistic regression/Softmax regression.\n",
        "\n",
        "**If you choose to provide a document file, you also need to upload on moodle the code**."
      ],
      "metadata": {
        "id": "KVt60QwM1kZ0"
      }
    },
    {
      "cell_type": "code",
      "source": [
        "## Importam librariile si functiile de care o sa avem nevoie\n",
        "\n",
        "import numpy as np\n",
        "import pandas as pd\n",
        "import seaborn as sns\n",
        "from sklearn import preprocessing\n",
        "from sklearn.preprocessing import StandardScaler\n",
        "from sklearn.model_selection import train_test_split\n",
        "from sklearn import svm\n",
        "from sklearn.metrics import accuracy_score\n",
        "from sklearn.linear_model import LogisticRegression\n",
        "from sklearn import metrics\n",
        "from sklearn.preprocessing import LabelEncoder\n",
        "from sklearn.tree import DecisionTreeClassifier\n",
        "\n",
        "## Am ales datasetul de aici: https://www.kaggle.com/datasets/altruistdelhite04/loan-prediction-problem-dataset\n",
        "## Este vorba despre predictia statusului acordarii de imprumut bancar catre o persoana, in functie de mai multe atribute.\n",
        "## Am inclus fisierul de train de care avem nevoie, dar o sa fie incarcat si pe moodle.\n",
        "\n",
        "df = pd.read_csv('/content/train_u6lujuX_CVtuZ9i.csv')\n",
        "\n",
        "print(df.head(5).T)\n",
        "print(\"\\n<------------------------------------------------> Inainte de completare: \")\n",
        "print(df.isnull().sum())\n",
        "\n",
        "## Dupa cum vedem, avem foarte multe coloane care au valori nule, deci putem fie sa eliminam inregistrarile fie sa completam cu niste\n",
        "# date care nu o sa afecteze.\n",
        "# Am rulat programul in ambele cazuri si avem valori foarte similare pentru acuratete, deci o sa aleg cazul in care competam cu date.\n",
        "\n",
        "\n",
        "## Completam datele numerice cu media coloanei respective.\n",
        "\n",
        "df['LoanAmount'] = df['LoanAmount'].fillna(df['LoanAmount'].mean())\n",
        "df['Loan_Amount_Term'] = df['Loan_Amount_Term'].fillna(df['Loan_Amount_Term'].mean())\n",
        "df['Credit_History'] = df['Credit_History'].fillna(df['Credit_History'].mean())\n",
        "\n",
        "## Completam datele care nu sunt numerice cu cea mai comuna valoare care apare in coloana respectiva.\n",
        "\n",
        "df['Gender'] = df['Gender'].fillna(df['Gender'].mode()[0])\n",
        "df['Married'] = df['Married'].fillna(df['Married'].mode()[0])\n",
        "df['Dependents'] = df['Dependents'].fillna(df['Dependents'].mode()[0])\n",
        "df['Self_Employed'] = df['Self_Employed'].fillna(df['Self_Employed'].mode()[0])\n",
        "\n",
        "print(\"\\n<------------------------------------------------> Dupa completare: \")\n",
        "print(df.isnull().sum())\n",
        "\n",
        "## Eliminam coloanele de care nu avem nevoie in clasificare.\n",
        "\n",
        "cols = ['CoapplicantIncome','Loan_ID']\n",
        "df = df.drop(columns = cols,axis= 1)\n",
        "\n",
        "## Convertim aici valorile care nu sunt numerice in valori numerice.\n",
        "# Exemplu : Y --> 1 si N --> 0\n",
        "\n",
        "cols = ['Gender', 'Married', 'Education','Self_Employed', 'Property_Area','Loan_Status','Dependents']\n",
        "le = LabelEncoder()\n",
        "for col in cols:\n",
        "    df[col] = le.fit_transform(df[col])\n",
        "\n",
        "## Ilustram proportionalitatea celor doua tipuri de inregistrari.\n",
        "\n",
        "df['Loan_Status'].plot(kind='hist', edgecolor='black')\n",
        "\n",
        "## Specificam intrarile pentru algoritmii de mai jos.\n",
        "\n",
        "y = df['Loan_Status']\n",
        "X = df.drop(columns=['Loan_Status'], axis = 1)\n",
        "\n",
        "## Normalizam setul de date.\n",
        "\n",
        "X = preprocessing.normalize(X)\n",
        "\n",
        "## Scalam setul de date.\n",
        "\n",
        "stdsc = StandardScaler()\n",
        "X_std = stdsc.fit_transform(X)\n",
        "\n",
        "## Impartim setul de date in train si test, deoarece avem fisier separat de test, dar nu avem statusul, deci nu putem verifica.\n",
        "\n",
        "X_train, X_test, y_train, y_test = train_test_split(X_std, y, test_size = 0.15, random_state=0)\n",
        "\n",
        "print(\"\\n<------------------------------------------------>\\n\")\n",
        "print(\"Train Shape =======> \",X_train.shape)\n",
        "print(\"Test Shape  =======> \",X_test.shape)\n",
        "\n",
        "## Folosim SVM pentru clasificare.\n",
        "\n",
        "SVM = svm.SVC(C=1.5, kernel='linear', degree=3, gamma='auto')\n",
        "SVM.fit(X_train,y_train)\n",
        "predictions_SVM = SVM.predict(X_test)\n",
        "\n",
        "## Folosim LogisticRegression pentru clasificare.\n",
        "\n",
        "log_reg = LogisticRegression()\n",
        "log_reg.fit(X_train,y_train)\n",
        "predictions_LR = log_reg.predict(X_test)\n",
        "\n",
        "## Folosim DecisionTree pentru clasificare.\n",
        "\n",
        "clf = DecisionTreeClassifier()\n",
        "clf = clf.fit(X_train,y_train)\n",
        "predictions_CLF = clf.predict(X_test)\n",
        "\n",
        "## Calculam acuratetea clasificarii.\n",
        "\n",
        "print(\"\\n<------------------------------------------------>\\n\")\n",
        "print(\"SVM ================> \", accuracy_score(predictions_SVM, y_test)*100)\n",
        "print(\"\\n<------------------------------------------------>\\n\")\n",
        "print(\"LogisticRegression => \", accuracy_score(predictions_LR, y_test)*100)\n",
        "print(\"\\n<------------------------------------------------>\\n\")\n",
        "print(\"DecisionTree =======> \", accuracy_score(predictions_CLF, y_test)*100)\n",
        "print(\"\\n<------------------------------------------------>\\n\")\n",
        "\n",
        "\n",
        "\n"
      ],
      "metadata": {
        "id": "mN0v0b_Na4ZX",
        "colab": {
          "base_uri": "https://localhost:8080/",
          "height": 1000
        },
        "outputId": "ceba37a3-75bc-4962-f9ca-00b7ed99d106"
      },
      "execution_count": 38,
      "outputs": [
        {
          "output_type": "stream",
          "name": "stdout",
          "text": [
            "                          0         1         2             3         4\n",
            "Loan_ID            LP001002  LP001003  LP001005      LP001006  LP001008\n",
            "Gender                 Male      Male      Male          Male      Male\n",
            "Married                  No       Yes       Yes           Yes        No\n",
            "Dependents                0         1         0             0         0\n",
            "Education          Graduate  Graduate  Graduate  Not Graduate  Graduate\n",
            "Self_Employed            No        No       Yes            No        No\n",
            "ApplicantIncome        5849      4583      3000          2583      6000\n",
            "CoapplicantIncome       0.0    1508.0       0.0        2358.0       0.0\n",
            "LoanAmount              NaN     128.0      66.0         120.0     141.0\n",
            "Loan_Amount_Term      360.0     360.0     360.0         360.0     360.0\n",
            "Credit_History          1.0       1.0       1.0           1.0       1.0\n",
            "Property_Area         Urban     Rural     Urban         Urban     Urban\n",
            "Loan_Status               Y         N         Y             Y         Y\n",
            "\n",
            "<------------------------------------------------> Inainte de completare: \n",
            "Loan_ID               0\n",
            "Gender               13\n",
            "Married               3\n",
            "Dependents           15\n",
            "Education             0\n",
            "Self_Employed        32\n",
            "ApplicantIncome       0\n",
            "CoapplicantIncome     0\n",
            "LoanAmount           22\n",
            "Loan_Amount_Term     14\n",
            "Credit_History       50\n",
            "Property_Area         0\n",
            "Loan_Status           0\n",
            "dtype: int64\n",
            "\n",
            "<------------------------------------------------> Dupa completare: \n",
            "Loan_ID              0\n",
            "Gender               0\n",
            "Married              0\n",
            "Dependents           0\n",
            "Education            0\n",
            "Self_Employed        0\n",
            "ApplicantIncome      0\n",
            "CoapplicantIncome    0\n",
            "LoanAmount           0\n",
            "Loan_Amount_Term     0\n",
            "Credit_History       0\n",
            "Property_Area        0\n",
            "Loan_Status          0\n",
            "dtype: int64\n",
            "\n",
            "<------------------------------------------------>\n",
            "\n",
            "Train Shape =======>  (521, 10)\n",
            "Test Shape  =======>  (93, 10)\n",
            "\n",
            "<------------------------------------------------>\n",
            "\n",
            "SVM ================>  82.79569892473118\n",
            "\n",
            "<------------------------------------------------>\n",
            "\n",
            "LogisticRegression =>  81.72043010752688\n",
            "\n",
            "<------------------------------------------------>\n",
            "\n",
            "DecisionTree =======>  69.89247311827957\n",
            "\n",
            "<------------------------------------------------>\n",
            "\n"
          ]
        },
        {
          "output_type": "display_data",
          "data": {
            "text/plain": [
              "<Figure size 640x480 with 1 Axes>"
            ],
            "image/png": "[encoded data removed]"
          },
          "metadata": {}
        }
      ]
    }
  ]
}